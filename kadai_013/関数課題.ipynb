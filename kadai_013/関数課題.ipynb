{
  "nbformat": 4,
  "nbformat_minor": 0,
  "metadata": {
    "colab": {
      "provenance": []
    },
    "kernelspec": {
      "name": "python3",
      "display_name": "Python 3"
    },
    "language_info": {
      "name": "python"
    }
  },
  "cells": [
    {
      "cell_type": "code",
      "source": [
        "def calc_with_tax(price, tax_rate):\n",
        "    # 税込金額を計算（税率は％で受け取る）\n",
        "    result = price * (1 + tax_rate / 100)\n",
        "    return result\n",
        "\n",
        "# 商品金額 110円、消費税 10%\n",
        "total = calc_with_tax(110,10)\n",
        "print(f\"{total}円\")"
      ],
      "metadata": {
        "colab": {
          "base_uri": "https://localhost:8080/"
        },
        "id": "aJmcIu19nQ59",
        "outputId": "fd450dc3-838b-48e7-820d-7bc603ed7952"
      },
      "execution_count": 23,
      "outputs": [
        {
          "output_type": "stream",
          "name": "stdout",
          "text": [
            "121.00000000000001円\n"
          ]
        }
      ]
    }
  ]
}