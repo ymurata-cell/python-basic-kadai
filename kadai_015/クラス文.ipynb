{
  "nbformat": 4,
  "nbformat_minor": 0,
  "metadata": {
    "colab": {
      "provenance": []
    },
    "kernelspec": {
      "name": "python3",
      "display_name": "Python 3"
    },
    "language_info": {
      "name": "python"
    }
  },
  "cells": [
    {
      "cell_type": "code",
      "source": [
        "class Human:\n",
        "    def __init__(self, name: str, age: int):\n",
        "\n",
        "      self.name = name\n",
        "      self.age = age\n",
        "\n",
        "    def printinfo(self):\n",
        "        print(f\"名前 {self.name},  {self.age}歳\")"
      ],
      "metadata": {
        "id": "0jhk79NEpRbg"
      },
      "execution_count": 5,
      "outputs": []
    },
    {
      "cell_type": "code",
      "source": [
        "human1 = Human(\"田中\", 25)\n"
      ],
      "metadata": {
        "id": "NdTDTxmxj-5n"
      },
      "execution_count": 9,
      "outputs": []
    },
    {
      "cell_type": "code",
      "source": [
        "human1.printinfo()"
      ],
      "metadata": {
        "colab": {
          "base_uri": "https://localhost:8080/"
        },
        "id": "5erC8mS1k0PK",
        "outputId": "1d3f2b74-93a6-4be6-c1fc-b23a2f6f1f57"
      },
      "execution_count": 10,
      "outputs": [
        {
          "output_type": "stream",
          "name": "stdout",
          "text": [
            "名前 田中,  25歳\n"
          ]
        }
      ]
    }
  ]
}