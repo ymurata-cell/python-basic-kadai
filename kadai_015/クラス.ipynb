{
  "nbformat": 4,
  "nbformat_minor": 0,
  "metadata": {
    "colab": {
      "provenance": []
    },
    "kernelspec": {
      "name": "python3",
      "display_name": "Python 3"
    },
    "language_info": {
      "name": "python"
    }
  },
  "cells": [
    {
      "cell_type": "code",
      "source": [
        "class Human:\n",
        "    def __init__(self, name: str, age: int):\n",
        "\n",
        "        self.name = name\n",
        "        self.age = age\n",
        "\n",
        "    def printinfo(self):\n",
        "\n",
        "        print(f\"名前 {self.name},  {self.age}歳\")"
      ],
      "metadata": {
        "id": "0jhk79NEpRbg"
      },
      "execution_count": 9,
      "outputs": []
    }
  ]
}