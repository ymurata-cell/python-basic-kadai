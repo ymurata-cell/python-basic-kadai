{
  "nbformat": 4,
  "nbformat_minor": 0,
  "metadata": {
    "colab": {
      "provenance": []
    },
    "kernelspec": {
      "name": "python3",
      "display_name": "Python 3"
    },
    "language_info": {
      "name": "python"
    }
  },
  "cells": [
    {
      "cell_type": "code",
      "source": [
        "# 台形の面積を計算するプログラム\n",
        "\n",
        "# 変数の設定（単位は cm）\n",
        "top_side = 10   # 上辺\n",
        "bottom_side = 20  # 下辺\n",
        "height = 5     # 高さ\n",
        "\n",
        "# 台形の面積の公式\n",
        "area = (top_side + bottom_side) * height / 2\n",
        "\n",
        "# 結果を表示\n",
        "print(f\"台形の面積は {area}㎠ です。\")\n"
      ],
      "metadata": {
        "id": "kQvALHY-iM8u"
      },
      "execution_count": null,
      "outputs": []
    },
    {
      "cell_type": "markdown",
      "source": [],
      "metadata": {
        "id": "PiPCes7EZ93-"
      }
    },
    {
      "cell_type": "markdown",
      "source": [],
      "metadata": {
        "id": "87y4935yPRMX"
      }
    }
  ]
}